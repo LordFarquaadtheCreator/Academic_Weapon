{
 "cells": [
  {
   "cell_type": "markdown",
   "metadata": {},
   "source": [
    "## Import"
   ]
  },
  {
   "cell_type": "code",
   "execution_count": 1,
   "metadata": {},
   "outputs": [
    {
     "name": "stdout",
     "output_type": "stream",
     "text": [
      "Requirement already satisfied: python-dotenv in c:\\users\\david mazur\\downloads\\hackprinceton\\env\\lib\\site-packages (1.0.1)\n"
     ]
    }
   ],
   "source": [
    "# %pip install --upgrade --quiet langchain langchain-mongodb langchain-openai pymongo pypdf\n",
    "!pip install python-dotenv"
   ]
  },
  {
   "cell_type": "code",
   "execution_count": 2,
   "metadata": {},
   "outputs": [
    {
     "data": {
      "text/plain": [
       "True"
      ]
     },
     "execution_count": 2,
     "metadata": {},
     "output_type": "execute_result"
    }
   ],
   "source": [
    "import os\n",
    "# from langchain_community.vectorstores import MongoDBAtlasVectorSearch\n",
    "from langchain_community.document_loaders import PyPDFLoader\n",
    "from langchain_mongodb.cache import MongoDBCache\n",
    "from langchain_openai import OpenAIEmbeddings\n",
    "from langchain_text_splitters import RecursiveCharacterTextSplitter\n",
    "from pymongo import MongoClient\n",
    "from dotenv import load_dotenv\n",
    "from langchain_mongodb import MongoDBAtlasVectorSearch\n",
    "from langchain_community.document_loaders import PyPDFLoader\n",
    "from langchain_text_splitters import RecursiveCharacterTextSplitter\n",
    "from langchain_community.vectorstores import MongoDBAtlasVectorSearch\n",
    "from langchain_openai import OpenAIEmbeddings\n",
    "load_dotenv()\n"
   ]
  },
  {
   "cell_type": "code",
   "execution_count": 3,
   "metadata": {},
   "outputs": [],
   "source": [
    "client = MongoClient(os.getenv('mongodb_conn_string'))\n",
    "atlas_collection  = client[os.getenv('db_name')][os.getenv('collection_name')]\n",
    "vector_search_index = \"vector_index\""
   ]
  },
  {
   "cell_type": "code",
   "execution_count": 4,
   "metadata": {},
   "outputs": [
    {
     "data": {
      "text/plain": [
       "DeleteResult({'n': 0, 'electionId': ObjectId('7fffffff0000000000000113'), 'opTime': {'ts': Timestamp(1711852749, 17), 't': 275}, 'ok': 1.0, '$clusterTime': {'clusterTime': Timestamp(1711852749, 17), 'signature': {'hash': b\"\\x1b\\xcfd\\x00z\\x1a\\x9b\\xb0Q\\xa5\\x86\\xfb\\xbe'\\xc1a\\xf9Ij!\", 'keyId': 7290776215537844226}}, 'operationTime': Timestamp(1711852749, 17)}, acknowledged=True)"
      ]
     },
     "execution_count": 4,
     "metadata": {},
     "output_type": "execute_result"
    }
   ],
   "source": [
    "# Reset the collection\n",
    "atlas_collection.delete_many({})"
   ]
  },
  {
   "cell_type": "code",
   "execution_count": 5,
   "metadata": {},
   "outputs": [],
   "source": [
    "loader = PyPDFLoader(r\"C:\\Users\\David Mazur\\Downloads\\HackPrinceton\\backend\\agents\\atlas-langchain\\test.pdf\")\n",
    "data = loader.load()\n",
    "text_splitter = RecursiveCharacterTextSplitter(chunk_size=1000, chunk_overlap=150)\n",
    "docs = text_splitter.split_documents(data)"
   ]
  },
  {
   "cell_type": "code",
   "execution_count": 6,
   "metadata": {},
   "outputs": [],
   "source": [
    "# Create the vector store\n",
    "vector_search = MongoDBAtlasVectorSearch.from_documents(\n",
    "    documents = docs,\n",
    "    embedding = OpenAIEmbeddings(disallowed_special=()),\n",
    "    collection = atlas_collection,\n",
    "    index_name = vector_search_index\n",
    ")"
   ]
  },
  {
   "cell_type": "code",
   "execution_count": 11,
   "metadata": {},
   "outputs": [
    {
     "name": "stdout",
     "output_type": "stream",
     "text": [
      "[]\n"
     ]
    }
   ],
   "source": [
    "query = \"What is the document ?\"\n",
    "results = str(vector_search.similarity_search(query))\n",
    "print(results)"
   ]
  }
 ],
 "metadata": {
  "kernelspec": {
   "display_name": "env",
   "language": "python",
   "name": "python3"
  },
  "language_info": {
   "codemirror_mode": {
    "name": "ipython",
    "version": 3
   },
   "file_extension": ".py",
   "mimetype": "text/x-python",
   "name": "python",
   "nbconvert_exporter": "python",
   "pygments_lexer": "ipython3",
   "version": "3.12.2"
  }
 },
 "nbformat": 4,
 "nbformat_minor": 2
}
